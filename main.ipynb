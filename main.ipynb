{
 "cells": [
  {
   "cell_type": "markdown",
   "metadata": {},
   "source": [
    "# Graph structure Estimation Networks (GEN)"
   ]
  },
  {
   "cell_type": "code",
   "execution_count": 2,
   "metadata": {},
   "outputs": [
    {
     "name": "stderr",
     "output_type": "stream",
     "text": [
      "usage: ipykernel_launcher.py [-h] [--debug] [--base {gcn,sgc,gat,appnp,sage}]\n",
      "                             [--seed SEED] [--lr LR]\n",
      "                             [--weight_decay WEIGHT_DECAY] [--hidden HIDDEN]\n",
      "                             [--dropout DROPOUT]\n",
      "                             [--activation {relu,leaky_relu,elu}]\n",
      "                             [--dataset {cora,citeseer,pubmed,chameleon,squirrel,actor,sbm}]\n",
      "                             [--epoch EPOCH] [--iter ITER] [--k K]\n",
      "                             [--threshold THRESHOLD] [--tolerance TOLERANCE]\n",
      "ipykernel_launcher.py: error: unrecognized arguments: --f=c:\\Users\\manue\\AppData\\Roaming\\jupyter\\runtime\\kernel-v2-19436sGkHzFVosqZ2.json\n"
     ]
    },
    {
     "ename": "SystemExit",
     "evalue": "2",
     "output_type": "error",
     "traceback": [
      "An exception has occurred, use %tb to see the full traceback.\n",
      "\u001b[1;31mSystemExit\u001b[0m\u001b[1;31m:\u001b[0m 2\n"
     ]
    }
   ],
   "source": [
    "import argparse\n",
    "import torch\n",
    "import numpy as np\n",
    "import warnings\n",
    "\n",
    "from GEN.utils import load_data\n",
    "from GEN.models import GCN, GEN\n",
    "\n",
    "\n",
    "\n",
    "warnings.filterwarnings('ignore')\n",
    "\n",
    "# Training settings\n",
    "parser = argparse.ArgumentParser()\n",
    "parser.add_argument('--debug', action='store_true', default=True, help='debug mode')\n",
    "parser.add_argument('--base', type=str, default='gcn', choices=['gcn', 'sgc', 'gat', 'appnp', 'sage'])\n",
    "parser.add_argument('--seed', type=int, default=9, help='random seed')\n",
    "parser.add_argument('--lr', type=float, default=0.01, help='learning rate')\n",
    "parser.add_argument('--weight_decay', type=float, default=5e-4, help='weight decay (L2 loss on parameters)')\n",
    "parser.add_argument('--hidden', type=int, default=16, help='hidden size')\n",
    "parser.add_argument('--dropout', type=float, default=0.5, help='dropout rate')\n",
    "parser.add_argument('--activation', type=str, default='relu', choices=['relu', 'leaky_relu', 'elu'])\n",
    "# parser.add_argument('--num_head', type=int, default=8, help='number of heads in GAT')\n",
    "parser.add_argument('--dataset', type=str, default='cora', choices=['cora', 'citeseer', 'pubmed', 'chameleon', 'squirrel', 'actor', 'sbm'])\n",
    "parser.add_argument('--epoch', type=int, default=200, help='number of epochs to train the base model')\n",
    "parser.add_argument('--iter', type=int, default=30, help='number of iterations to train the GEN')\n",
    "parser.add_argument('--k', type=int, default=9, help='k of knn graph')\n",
    "parser.add_argument('--threshold', type=float, default=.5, help='threshold for adjacency matrix')\n",
    "parser.add_argument('--tolerance', type=float, default=.01, help='tolerance to stop EM algorithm')\n",
    "\n",
    "args = parser.parse_args()\n",
    "print(torch.cuda.is_available())\n",
    "device = \"cpu\"#torch.device(\"cuda\" if torch.cuda.is_available() else \"cpu\")\n",
    "print(args)\n",
    "\n",
    "torch.manual_seed(args.seed)\n",
    "torch.cuda.manual_seed(args.seed)\n",
    "np.random.seed(args.seed)\n",
    "\n",
    "data = load_data(\"../data\", args.dataset).to(device)\n",
    "\n",
    "base_model_args = {\"num_feature\": data.num_feature, \"num_class\":data.num_class,\n",
    "                \"hidden_size\": args.hidden, \"dropout\":args.dropout, \"activation\": args.activation}\n",
    "if args.base == 'gcn':\n",
    "    base_model = GCN(**base_model_args)\n",
    "# elif args.base == 'sgc':\n",
    "#     base_model = SGC(**base_model_args)\n",
    "# elif args.base == 'gat':\n",
    "#     base_model_args[\"num_head\"] = args.num_head\n",
    "#     base_model = GAT(**base_model_args)\n",
    "# elif args.base == 'appnp':\n",
    "#     base_model = PPNP(**base_model_args)\n",
    "# elif args.base == 'sage':\n",
    "#     base_model = SAGE(**base_model_args)\n",
    "\n",
    "model = GEN(base_model, args, device)\n",
    "model.fit(data)\n",
    "model.test(data)\n"
   ]
  }
 ],
 "metadata": {
  "kernelspec": {
   "display_name": "Python 3",
   "language": "python",
   "name": "python3"
  },
  "language_info": {
   "codemirror_mode": {
    "name": "ipython",
    "version": 3
   },
   "file_extension": ".py",
   "mimetype": "text/x-python",
   "name": "python",
   "nbconvert_exporter": "python",
   "pygments_lexer": "ipython3",
   "version": "3.10.11"
  }
 },
 "nbformat": 4,
 "nbformat_minor": 2
}
